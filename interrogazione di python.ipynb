{
 "cells": [
  {
   "cell_type": "markdown",
   "id": "3ede7fc5",
   "metadata": {},
   "source": [
    "# LE BASI DI PYTHON"
   ]
  },
  {
   "cell_type": "code",
   "execution_count": 2,
   "id": "ea08aec0",
   "metadata": {},
   "outputs": [
    {
     "name": "stdout",
     "output_type": "stream",
     "text": [
      "Hello, World!\n"
     ]
    }
   ],
   "source": [
    "#comprendere il comando print\n",
    "print(\"Hello, World!\")"
   ]
  },
  {
   "cell_type": "code",
   "execution_count": 1,
   "id": "d050909e",
   "metadata": {},
   "outputs": [
    {
     "name": "stdout",
     "output_type": "stream",
     "text": [
      "Inserisci il tuo nome: lorenzo rimazzi\n",
      "Inserisci il tuo cognome: .\n",
      "Benvenuto su Jupyter Notebook lorenzo rimazzi .\n"
     ]
    }
   ],
   "source": [
    "#comprendere il comando input\n",
    "nome=input(\"Inserisci il tuo nome: \")\n",
    "cognome=input(\"Inserisci il tuo cognome: \")\n",
    "print(\"Benvenuto su Jupyter Notebook\",nome,cognome)"
   ]
  },
  {
   "cell_type": "code",
   "execution_count": null,
   "id": "e489d438",
   "metadata": {},
   "outputs": [],
   "source": [
    "#comprendere il ciclo for\n",
    "nome=input(\"Inserisci il tuo nome: \")\n",
    "cognome=input(\"Inserisci il tuo cognome: \")\n",
    "numeroripetizionimessaggio=int(input(\"Inserisci il numero di volte che desideri che un messaggio getile si ripeta: \"))\n",
    "for i in range(numeroripetizionimessaggio):\n",
    "    print(nome,cognome)"
   ]
  },
  {
   "cell_type": "markdown",
   "id": "a280f15e",
   "metadata": {},
   "source": [
    "# ESEMPI DI CALCOLATRICE"
   ]
  },
  {
   "cell_type": "code",
   "execution_count": 4,
   "id": "5f679a2b",
   "metadata": {
    "scrolled": true
   },
   "outputs": [
    {
     "name": "stdout",
     "output_type": "stream",
     "text": [
      "Ciao, attraverso questa calcolatrice puoi eseguire calcoli con le addizioni!\n",
      "Inserisci il primo numero: 5\n",
      "Inserisci il secondo numero: 5\n",
      "La somma dei due numeri è pari a: 10\n"
     ]
    }
   ],
   "source": [
    "#comprendere come eseguire le addizioni\n",
    "print(\"Ciao, attraverso questa calcolatrice puoi eseguire calcoli con le addizioni!\")\n",
    "numero1=int(input(\"Inserisci il primo numero: \"))\n",
    "numero2=int(input(\"Inserisci il secondo numero: \"))\n",
    "addizione=numero1+numero2\n",
    "print(\"La somma dei due numeri è pari a:\",int(addizione))"
   ]
  },
  {
   "cell_type": "code",
   "execution_count": 2,
   "id": "b6efd194",
   "metadata": {},
   "outputs": [
    {
     "name": "stdout",
     "output_type": "stream",
     "text": [
      "Ciao, attraverso questa calcolatrice puoi eseguire calcoli con le sottrazioni!\n",
      "Inserisci il primo numero: 10\n",
      "Inserisci il secondo numero: 5\n",
      "La sottrazione dei due numeri è pari a: 5\n"
     ]
    }
   ],
   "source": [
    "#comprendere come eseguire le sottrazioni\n",
    "print(\"Ciao, attraverso questa calcolatrice puoi eseguire calcoli con le sottrazioni!\")\n",
    "numero1=int(input(\"Inserisci il primo numero: \"))\n",
    "numero2=int(input(\"Inserisci il secondo numero: \"))\n",
    "sottrazione=numero1-numero2\n",
    "print(\"La sottrazione dei due numeri è pari a:\",int(sottrazione))"
   ]
  },
  {
   "cell_type": "code",
   "execution_count": 5,
   "id": "6df6edcd",
   "metadata": {},
   "outputs": [
    {
     "name": "stdout",
     "output_type": "stream",
     "text": [
      "Ciao, attraverso questa calcolatrice puoi eseguire calcoli con le moltiplicazioni!\n",
      "Inserisci il primo numero: 5\n",
      "Inserisci il secondo numero: 5\n",
      "La moltiplicazione dei due numeri è pari a: 25\n"
     ]
    }
   ],
   "source": [
    "#comprendere come eseguire le moltiplicazioni\n",
    "print(\"Ciao, attraverso questa calcolatrice puoi eseguire calcoli con le moltiplicazioni!\")\n",
    "numero1=int(input(\"Inserisci il primo numero: \"))\n",
    "numero2=int(input(\"Inserisci il secondo numero: \"))\n",
    "moltiplicazione=numero1*numero2\n",
    "print(\"La moltiplicazione dei due numeri è pari a:\",int(moltiplicazione))"
   ]
  },
  {
   "cell_type": "code",
   "execution_count": 6,
   "id": "503c076e",
   "metadata": {},
   "outputs": [
    {
     "name": "stdout",
     "output_type": "stream",
     "text": [
      "Ciao, attraverso questa calcolatrice puoi eseguire calcoli con le divisioni!\n",
      "Inserisci il primo numero: 10\n",
      "Inserisci il secondo numero: 2\n",
      "La divisione dei due numeri è pari a: 5\n"
     ]
    }
   ],
   "source": [
    "#comprendere come eseguire le divisioni\n",
    "print(\"Ciao, attraverso questa calcolatrice puoi eseguire calcoli con le divisioni!\")\n",
    "numero1=int(input(\"Inserisci il primo numero: \"))\n",
    "numero2=int(input(\"Inserisci il secondo numero: \"))\n",
    "divisione=numero1/numero2\n",
    "print(\"La divisione dei due numeri è pari a:\",int(divisione))"
   ]
  },
  {
   "cell_type": "code",
   "execution_count": 10,
   "id": "705c7eff",
   "metadata": {},
   "outputs": [
    {
     "name": "stdout",
     "output_type": "stream",
     "text": [
      "Ciao, attraverso questa calcolatrice puoi calcolare il valore di una potenza!\n",
      "Inserisci la base della potenza: 5\n",
      "Inserisci l'esponente della potenza: 2\n",
      "Il valore della potenza è pari a: 25\n"
     ]
    }
   ],
   "source": [
    "#comprendere come eseguire le potenze\n",
    "print(\"Ciao, attraverso questa calcolatrice puoi calcolare il valore di una potenza!\")\n",
    "numero1=int(input(\"Inserisci la base della potenza: \"))\n",
    "numero2=int(input(\"Inserisci l'esponente della potenza: \"))\n",
    "potenza=numero1**numero2\n",
    "print(\"Il valore della potenza è pari a:\",int(potenza))"
   ]
  },
  {
   "cell_type": "code",
   "execution_count": 5,
   "id": "1bd4ef88",
   "metadata": {
    "scrolled": true
   },
   "outputs": [
    {
     "name": "stdout",
     "output_type": "stream",
     "text": [
      "Ciao, attraverso questa calcolatrice puoi eseguire calcoli con le addizioni, sottrazioni, moltiplicazioni e divisioni, inoltre puoi anche calcolare il valore di una potenza!\n",
      "Adesso scegli l'operazione che fa al caso tuo attraverso il correlato simbolo (+, -, *, /, **): non lo so\n",
      "Inserisci il primo numero o la base della potenza: 5\n",
      "Inserisci il secondo numero o l'esponente della potenza: 5\n",
      "Il risultato finale del calcolo è: operazione non riconosciuta. Prova con uno dei seguenti operatori riavviando prima il programma: +, -, *, /, **\n"
     ]
    }
   ],
   "source": [
    "#esempio di calcolatrice finale con tutte cinque le operazioni\n",
    "print(\"Ciao, attraverso questa calcolatrice puoi eseguire calcoli con le addizioni, sottrazioni, moltiplicazioni e divisioni, inoltre puoi anche calcolare il valore di una potenza!\")\n",
    "operazione=input(\"Adesso scegli l'operazione che fa al caso tuo attraverso il correlato simbolo (+, -, *, /, **): \")\n",
    "numero1=float(input(\"Inserisci il primo numero o la base della potenza: \"))\n",
    "numero2=float(input(\"Inserisci il secondo numero o l'esponente della potenza: \"))\n",
    "if operazione==\"+\":\n",
    "    risultato=numero1+numero2\n",
    "elif operazione==\"-\":\n",
    "    risultato=numero1-numero2\n",
    "elif operazione==\"*\":\n",
    "    risultato=numero1*numero2\n",
    "elif operazione==\"/\":\n",
    "    risultato=numero1/numero2\n",
    "elif operazione==\"**\":\n",
    "    risultato=numero1**numero2\n",
    "else:\n",
    "    risultato=\"operazione non riconosciuta. Prova con uno dei seguenti operatori riavviando prima il programma: +, -, *, /, **\"\n",
    "print(\"Il risultato finale del calcolo è:\",risultato)"
   ]
  },
  {
   "cell_type": "markdown",
   "id": "c6c5850f",
   "metadata": {},
   "source": [
    "# IL CICLO FOR CON N"
   ]
  },
  {
   "cell_type": "code",
   "execution_count": 2,
   "id": "ee67df12",
   "metadata": {},
   "outputs": [
    {
     "name": "stdout",
     "output_type": "stream",
     "text": [
      "Ciao, attraverso questo programma puoi verificare la numerazione ordinaria dei numeri dal e fino al punto che desideri\n",
      "Quindi, inserisci il numero positivo che desideri verificare: 33\n",
      "Poi, inserisci da quale numero positivo desideri che la numerazione inizii: 12\n",
      "12\n",
      "13\n",
      "14\n",
      "15\n",
      "16\n",
      "17\n",
      "18\n",
      "19\n",
      "20\n",
      "21\n",
      "22\n",
      "23\n",
      "24\n",
      "25\n",
      "26\n",
      "27\n",
      "28\n",
      "29\n",
      "30\n",
      "31\n",
      "32\n",
      "33\n"
     ]
    }
   ],
   "source": [
    "#comprendere il ciclo for con n\n",
    "print(\"Ciao, attraverso questo programma puoi verificare la numerazione ordinaria dei numeri dal e fino al punto che desideri\")\n",
    "n=int(input(\"Quindi, inserisci il numero positivo che desideri verificare: \"))\n",
    "p=int(input(\"Poi, inserisci da quale numero positivo desideri che la numerazione inizii: \"))\n",
    "for numero in range(p,n+1):\n",
    "    print(numero)"
   ]
  },
  {
   "cell_type": "code",
   "execution_count": 1,
   "id": "5c84a866",
   "metadata": {},
   "outputs": [
    {
     "name": "stdout",
     "output_type": "stream",
     "text": [
      "Ciao, attraverso questo programma puoi calcolare la somma cumulativa di qualsiasi numero che desideri sapere\n",
      "Quindi, inserisci il numero positivo che desideri calcolare: 12\n",
      "La somma dei primi 12 numeri interi è 78\n",
      "Perciò la somma cumulativa di 12 è 78\n"
     ]
    }
   ],
   "source": [
    "#comprendere il ciclo for con n facendo la somma cumulativa\n",
    "print(\"Ciao, attraverso questo programma puoi calcolare la somma cumulativa di qualsiasi numero che desideri sapere\")\n",
    "n=int(input(\"Quindi, inserisci il numero positivo che desideri calcolare: \"))\n",
    "addizione=0\n",
    "for numero in range(1,n+1):\n",
    "    addizione+=numero#il simbolo += svolge due compiti in uno: fa la somma e riassegna il valore della variabile\n",
    "print(\"La somma dei primi\",n,\"numeri interi è\",addizione)\n",
    "print(\"Perciò la somma cumulativa di\",n,\"è\",addizione)"
   ]
  },
  {
   "cell_type": "markdown",
   "id": "4af2b7a0",
   "metadata": {},
   "source": [
    "# CALCOLARE LA MEDIA DI UNA LISTA DI NUMERI"
   ]
  },
  {
   "cell_type": "code",
   "execution_count": 1,
   "id": "7aa699b3",
   "metadata": {},
   "outputs": [
    {
     "name": "stdout",
     "output_type": "stream",
     "text": [
      "Ciao, attraverso questo programma puoi calcolare la media di una lista di numeri che desideri sapere\n",
      "Quanti numeri desideri inserire in totale? 5\n",
      "Inserisci il numero di cui desideri fare la media: 12\n",
      "Inserisci il numero di cui desideri fare la media: 33\n",
      "Inserisci il numero di cui desideri fare la media: 57\n",
      "Inserisci il numero di cui desideri fare la media: 127\n",
      "Inserisci il numero di cui desideri fare la media: 73\n",
      "La media di tutti i numeri inseriti è: 60.4\n"
     ]
    }
   ],
   "source": [
    "#comprendere come usare i comandi sum e len facendo la media di una lista di numeri\n",
    "numeri=[]\n",
    "print(\"Ciao, attraverso questo programma puoi calcolare la media di una lista di numeri che desideri sapere\")\n",
    "n=int(input(\"Quanti numeri desideri inserire in totale? \"))\n",
    "for i in range(n):\n",
    "    numero=float(input(\"Inserisci il numero di cui desideri fare la media: \"))\n",
    "    numeri.append(numero)\n",
    "mediadeinumeri=sum(numeri)/len(numeri)#sum=somma mentre len=lunghezza\n",
    "print(\"La media di tutti i numeri inseriti è:\",mediadeinumeri)"
   ]
  },
  {
   "cell_type": "markdown",
   "id": "f7e9163e",
   "metadata": {},
   "source": [
    "# IL QUADRATO DEI NUMERI"
   ]
  },
  {
   "cell_type": "code",
   "execution_count": 1,
   "id": "27ba59d3",
   "metadata": {},
   "outputs": [
    {
     "name": "stdout",
     "output_type": "stream",
     "text": [
      "Ciao, attraverso questo programma puoi calcolare il quadrato di un numero che desideri sapere\n",
      "Quindi, inserisci il numero di cui desideri sapere il quadrato: 12\n",
      "I quadrati dei primi 12 numeri sono: \n",
      "Il quadrato di 1 è 1\n",
      "Il quadrato di 2 è 4\n",
      "Il quadrato di 3 è 9\n",
      "Il quadrato di 4 è 16\n",
      "Il quadrato di 5 è 25\n",
      "Il quadrato di 6 è 36\n",
      "Il quadrato di 7 è 49\n",
      "Il quadrato di 8 è 64\n",
      "Il quadrato di 9 è 81\n",
      "Il quadrato di 10 è 100\n",
      "Il quadrato di 11 è 121\n",
      "Il quadrato di 12 è 144\n"
     ]
    }
   ],
   "source": [
    "#comprendere come eseguire le potenze facendo il quadrato dei numeri\n",
    "print(\"Ciao, attraverso questo programma puoi calcolare il quadrato di un numero che desideri sapere\")\n",
    "n=int(input(\"Quindi, inserisci il numero di cui desideri sapere il quadrato: \"))\n",
    "print(\"I quadrati dei primi\",n,\"numeri sono: \")\n",
    "for numero in range(1,n+1):\n",
    "    quadratodelnumero=numero**2#il simbolo di potenza si fa con il doppio **\n",
    "    print(\"Il quadrato di\",numero,\"è\",quadratodelnumero)"
   ]
  },
  {
   "cell_type": "markdown",
   "id": "bf3d1446",
   "metadata": {},
   "source": [
    "# LA VERIFICA DI PARITÀ"
   ]
  },
  {
   "cell_type": "code",
   "execution_count": 2,
   "id": "c133b0f9",
   "metadata": {},
   "outputs": [
    {
     "name": "stdout",
     "output_type": "stream",
     "text": [
      "Ciao, attraverso questo programma puoi verificare se un numero è pari o dispari\n",
      "Quindi, inserisci il numero che desideri verificare: 12\n",
      "Il numero 12 è un numero pari\n"
     ]
    }
   ],
   "source": [
    "#comprendere l'utillizo del simbolo di %\n",
    "print(\"Ciao, attraverso questo programma puoi verificare se un numero è pari o dispari\")\n",
    "numero=int(input(\"Quindi, inserisci il numero che desideri verificare: \"))\n",
    "if numero%2==0:#il simbolo di % vuol dire se è divisibile o meno un numero, ==0 vuol dire invece che è con il resto di 0\n",
    "    print(\"Il numero\",numero,\"è un numero pari\")\n",
    "else:\n",
    "    print(\"Il numero\",numero,\"è un numero dispari\")"
   ]
  },
  {
   "cell_type": "markdown",
   "id": "bdf0ac66",
   "metadata": {},
   "source": [
    "# CALCOLARE IL FATTORIALE"
   ]
  },
  {
   "cell_type": "code",
   "execution_count": 1,
   "id": "83d10ea3",
   "metadata": {},
   "outputs": [
    {
     "name": "stdout",
     "output_type": "stream",
     "text": [
      "Ciao, attraverso questo programma puoi calcolare il fattoriale di qualsiasi numero che desideri sapere\n",
      "Quindi, inserisci il numero positivo che desideri calcolare: 12\n",
      "Il fattoriale del numero 12 è 479001600\n"
     ]
    }
   ],
   "source": [
    "#comprendere l'utillizo del simbolo di *=\n",
    "print(\"Ciao, attraverso questo programma puoi calcolare il fattoriale di qualsiasi numero che desideri sapere\")\n",
    "n=int(input(\"Quindi, inserisci il numero positivo che desideri calcolare: \"))\n",
    "fattoriale=1\n",
    "for numero in range(1,n+1):\n",
    "    fattoriale*=numero#il simbolo *= svolge due compiti in uno: fa la moltiplicazione e riassegna il valore della variabile\n",
    "print(\"Il fattoriale del numero\",n,\"è\",fattoriale)"
   ]
  },
  {
   "cell_type": "markdown",
   "id": "a6568fd2",
   "metadata": {},
   "source": [
    "# IL GIOCO DELL'INDOVINELLO"
   ]
  },
  {
   "cell_type": "code",
   "execution_count": 3,
   "id": "6c9ed5d3",
   "metadata": {},
   "outputs": [
    {
     "name": "stdout",
     "output_type": "stream",
     "text": [
      "Ciao, questo gioco prevede che tu indovini un numero compreso da 1 a 100\n",
      "Adesso inserisci il numero che ritieni sia quello giusto: 10\n",
      "Ci sei quasi, ti stai avvicinando! Ti do un consiglio: il numero è più grande\n",
      "Adesso inserisci il numero che ritieni sia quello giusto: 90\n",
      "Ci sei quasi, ti stai avvicinando! Ti do un consiglio: il numero è più piccolo\n",
      "Adesso inserisci il numero che ritieni sia quello giusto: 20\n",
      "Ci sei quasi, ti stai avvicinando! Ti do un consiglio: il numero è più grande\n",
      "Adesso inserisci il numero che ritieni sia quello giusto: 80\n",
      "Ci sei quasi, ti stai avvicinando! Ti do un consiglio: il numero è più piccolo\n",
      "Adesso inserisci il numero che ritieni sia quello giusto: 30\n",
      "Ci sei quasi, ti stai avvicinando! Ti do un consiglio: il numero è più grande\n",
      "Adesso inserisci il numero che ritieni sia quello giusto: 70\n",
      "Ci sei quasi, ti stai avvicinando! Ti do un consiglio: il numero è più piccolo\n",
      "Adesso inserisci il numero che ritieni sia quello giusto: 40\n",
      "Ci sei quasi, ti stai avvicinando! Ti do un consiglio: il numero è più grande\n",
      "Adesso inserisci il numero che ritieni sia quello giusto: 60\n",
      "Ci sei quasi, ti stai avvicinando! Ti do un consiglio: il numero è più grande\n",
      "Adesso inserisci il numero che ritieni sia quello giusto: 61\n",
      "Ci sei quasi, ti stai avvicinando! Ti do un consiglio: il numero è più grande\n",
      "Adesso inserisci il numero che ritieni sia quello giusto: 62\n",
      "Ci sei quasi, ti stai avvicinando! Ti do un consiglio: il numero è più grande\n",
      "Adesso inserisci il numero che ritieni sia quello giusto: 63\n",
      "Ci sei quasi, ti stai avvicinando! Ti do un consiglio: il numero è più grande\n",
      "Adesso inserisci il numero che ritieni sia quello giusto: 64\n",
      "Ci sei quasi, ti stai avvicinando! Ti do un consiglio: il numero è più grande\n",
      "Adesso inserisci il numero che ritieni sia quello giusto: 65\n",
      "Ci sei quasi, ti stai avvicinando! Ti do un consiglio: il numero è più grande\n",
      "Adesso inserisci il numero che ritieni sia quello giusto: 67\n",
      "Ci sei quasi, ti stai avvicinando! Ti do un consiglio: il numero è più grande\n",
      "Adesso inserisci il numero che ritieni sia quello giusto: 68\n",
      "Complimenti! Sei riuscito a indovinare il numero incognito che è 68 in 15 tentativi\n"
     ]
    }
   ],
   "source": [
    "#comprendere l'utillizzo della libreria random\n",
    "import random\n",
    "numerodaindovinare=random.randint(1,100)\n",
    "tentativi=0\n",
    "print(\"Ciao, questo gioco prevede che tu indovini un numero compreso da 1 a 100\")\n",
    "while True:\n",
    "    tentativo=int(input(\"Adesso inserisci il numero che ritieni sia quello giusto: \"))\n",
    "    tentativi += 1\n",
    "    if tentativo==numerodaindovinare:\n",
    "        print(\"Complimenti! Sei riuscito a indovinare il numero incognito che è\",numerodaindovinare,\"in\",tentativi,\"tentativi\")\n",
    "        break\n",
    "    elif tentativo<numerodaindovinare:\n",
    "        print(\"Ci sei quasi, ti stai avvicinando! Ti do un consiglio: il numero è più grande\")\n",
    "    else:\n",
    "        print(\"Ci sei quasi, ti stai avvicinando! Ti do un consiglio: il numero è più piccolo\")"
   ]
  },
  {
   "cell_type": "markdown",
   "id": "66d43e5b",
   "metadata": {},
   "source": [
    "# IL GIOCO DEL MORRA CINESE"
   ]
  },
  {
   "cell_type": "code",
   "execution_count": 2,
   "id": "a98d477b",
   "metadata": {},
   "outputs": [
    {
     "name": "stdout",
     "output_type": "stream",
     "text": [
      "Ciao, questo gioco è la morra cinese quindi devi provare ad indovinare la mossa giusta e battere il computer che è l'avversario\n",
      "Puoi trovare tutto il regolamento e le strategie del gioco a questo link: https://it.wikipedia.org/wiki/Morra_cinese\n",
      "Quindi adesso scegli la tua mossa scrivendo una delle seguenti opzioni: carta, forbice o sasso: forbice\n",
      "Il computer ha scelto la seguente mossa: carta\n",
      "Peccato! Hai perso!\n"
     ]
    }
   ],
   "source": [
    "#riassunto di tutte le competenze imparate finora in questo esercizio (INSERIRE NEL CODICE IL IF E L'ELSE CHE CAPISCE QUANDO L'UTENTE SBAGLIA A SCRIVERE L'OPZIONE)\n",
    "import random\n",
    "mosse=[\"carta\",\"forbici\",\"sasso\"]\n",
    "mossadelcomputer=random.choice(mosse)\n",
    "print(\"Ciao, questo gioco è la morra cinese quindi devi provare ad indovinare la mossa giusta e battere il computer che è l'avversario\")\n",
    "print(\"Puoi trovare tutto il regolamento e le strategie del gioco a questo link: https://it.wikipedia.org/wiki/Morra_cinese\")\n",
    "sceltadelgiocatore=input(\"Quindi adesso scegli la tua mossa scrivendo una delle seguenti opzioni: carta, forbice o sasso: \")\n",
    "print(\"Il computer ha scelto la seguente mossa:\",mossadelcomputer)\n",
    "if sceltadelgiocatore==mossadelcomputer:\n",
    "    print(\"Parità!\")\n",
    "elif (sceltadelgiocatore==\"carta\" and mossadelcomputer==\"sasso\")or(sceltadelgiocatore==\"forbici\" and mossadelcomputer==\"carta\")or(sceltadelgiocatore==\"sasso\" and mossadelcomputer==\"forbici\"):\n",
    "    print(\"Complimenti! Hai vinto!\")\n",
    "else:\n",
    "    print(\"Peccato! Hai perso!\")"
   ]
  },
  {
   "cell_type": "markdown",
   "id": "5bbdce0a",
   "metadata": {},
   "source": [
    "# fattoriale "
   ]
  },
  {
   "cell_type": "code",
   "execution_count": 12,
   "id": "e4e676d5",
   "metadata": {},
   "outputs": [
    {
     "name": "stdout",
     "output_type": "stream",
     "text": [
      "Inserisci un numero intero positivo: 5\n",
      "Il fattoriale di 5 è 120\n"
     ]
    }
   ],
   "source": [
    "# Chiedere all'utente di inserire un numero intero positivo\n",
    "numero = int(input(\"Inserisci un numero intero positivo: \"))\n",
    "\n",
    "# Inizializzare il fattoriale a 1\n",
    "fattoriale = 1\n",
    "\n",
    "# Calcolare il fattoriale\n",
    "if numero < 0:\n",
    "    print(\"Il fattoriale non è definito per i numeri negativi.\")\n",
    "elif numero == 0:\n",
    "    print(\"Il fattoriale di 0 è 1.\")\n",
    "else:\n",
    "    for i in range(1, numero + 1):\n",
    "        fattoriale *= i\n",
    "    print(f\"Il fattoriale di {numero} è {fattoriale}\")"
   ]
  },
  {
   "cell_type": "code",
   "execution_count": 14,
   "id": "30126069",
   "metadata": {},
   "outputs": [
    {
     "name": "stdout",
     "output_type": "stream",
     "text": [
      "inserisci un numreo intero positivo N :4\n",
      "la somma dei primi 4 numero pari é 20\n"
     ]
    }
   ],
   "source": [
    "# chiedere all'utente di inserire un numero intero positivo N\n",
    "N = int(input(\"inserisci un numreo intero positivo N :\"))\n",
    "\n",
    "# inizializzare la somma dei primi N numero pari \n",
    "somma = 0 \n",
    "\n",
    "# calcolare la somma dei primi N numeri pari \n",
    "for numero in range (2,2*N+1,2):\n",
    "    somma += numero\n",
    "    \n",
    "# stamapre la somma \n",
    "print(f\"la somma dei primi {N} numero pari é {somma}\")"
   ]
  },
  {
   "cell_type": "code",
   "execution_count": null,
   "id": "fbaf5cf1",
   "metadata": {},
   "outputs": [],
   "source": [
    "# Chiedi all'utente di inserire una frase o una parola\n",
    "frase = input(\"Inserisci una frase o una parola: \").lower()\n",
    "# Converte tutto in minuscolo per semplificare il conteggio\n",
    "\n",
    "# Inizializza il contatore delle vocali\n",
    "conteggio_vocali = 0\n",
    "\n",
    "# Definisci le vocali da cercare\n",
    "vocali = \"aeiou\"\n",
    "\n",
    "# Scansiona ogni carattere nella frase\n",
    "for carattere in frase:\n",
    "    # Verifica se il carattere è una vocale\n",
    "    if carattere in vocali:\n",
    "        conteggio_vocali += 1\n",
    "\n",
    "# Stampa il conteggio delle vocali\n",
    "print(f\"Nella frase ci sono {conteggio_vocali} vocali.\")"
   ]
  },
  {
   "cell_type": "markdown",
   "id": "76f75fa0",
   "metadata": {},
   "source": [
    "# creare la lista dei numeri pari "
   ]
  },
  {
   "cell_type": "code",
   "execution_count": 15,
   "id": "5d52cd32",
   "metadata": {},
   "outputs": [
    {
     "name": "stdout",
     "output_type": "stream",
     "text": [
      "inserisci un numero intero positivo N:10\n",
      "[2, 4, 6, 8, 10, 12, 14, 16, 18, 20]\n"
     ]
    }
   ],
   "source": [
    "# chiaedere all'utente di inserire un numero intero positivo N\n",
    "N = int(input(\"inserisci un numero intero positivo N:\"))\n",
    "lista=[]\n",
    "\n",
    "# calcolare la somma dei primi N numeri pari\n",
    "for numero in range(2, 2* N +1,2):\n",
    "    lista.append(numero)\n",
    "\n",
    "# stampare la somma\n",
    "print(lista)"
   ]
  },
  {
   "cell_type": "markdown",
   "id": "760317fb",
   "metadata": {},
   "source": [
    "# dado"
   ]
  },
  {
   "cell_type": "code",
   "execution_count": 8,
   "id": "73f7398e",
   "metadata": {},
   "outputs": [
    {
     "name": "stdout",
     "output_type": "stream",
     "text": [
      "Indovina il numero del dado (da 1 a 6): 5\n",
      "Complimenti! Il numero del dado era 5. Hai indovinato!\n"
     ]
    }
   ],
   "source": [
    "import random\n",
    "\n",
    "# Genera un numero casuale da 1 a 6 (simulando il lancio di un dado)\n",
    "numero_dado = random.randint(1, 6)\n",
    "\n",
    "# Chiedi all'utente di indovinare il numero\n",
    "indovina = int(input(\"Indovina il numero del dado (da 1 a 6): \"))\n",
    "\n",
    "# Verifica se l'utente ha indovinato correttamente\n",
    "if indovina == numero_dado:\n",
    "    print(f\"Complimenti! Il numero del dado era {numero_dado}. Hai indovinato!\")\n",
    "else:\n",
    "    print(f\"Mi dispiace, il numero del dado era {numero_dado}. Meglio fortuna alla prossima!\")"
   ]
  },
  {
   "cell_type": "markdown",
   "id": "94a5ef74",
   "metadata": {},
   "source": [
    "# calcolare le vocali"
   ]
  },
  {
   "cell_type": "code",
   "execution_count": 1,
   "id": "d2301452",
   "metadata": {},
   "outputs": [
    {
     "name": "stdout",
     "output_type": "stream",
     "text": [
      "inserisci una frase o una parolaAtdfgh9\n",
      "Nella frase inserita ci sono 7 vocali.\n"
     ]
    }
   ],
   "source": [
    "frase=input(\"inserisci una frase o una parola\").lower() \n",
    "conteggio_vocali=0\n",
    "vocali=\"aeiou\"\n",
    "for carattere in frase:\n",
    "    if carattere in frase:\n",
    "        conteggio_vocali +=1\n",
    "\n",
    "print(f\"Nella frase inserita ci sono {conteggio_vocali} vocali.\")"
   ]
  },
  {
   "cell_type": "markdown",
   "id": "577f56d6",
   "metadata": {},
   "source": [
    "# calcolare la poplazione"
   ]
  },
  {
   "cell_type": "code",
   "execution_count": 11,
   "id": "6c0908d5",
   "metadata": {},
   "outputs": [
    {
     "name": "stdout",
     "output_type": "stream",
     "text": [
      "Anno 1: Popolazione=1007\n",
      "Anno 2: Popolazione=1014\n",
      "Anno 3: Popolazione=1021\n",
      "Anno 4: Popolazione=1028\n",
      "Anno 5: Popolazione=1035\n",
      "Anno 6: Popolazione=1042\n",
      "Anno 7: Popolazione=1050\n",
      "Anno 8: Popolazione=1057\n",
      "Anno 9: Popolazione=1064\n",
      "Anno 10: Popolazione=1072\n",
      "Simulazione completata.\n"
     ]
    }
   ],
   "source": [
    "popolazione = 1000\n",
    "anni = 10\n",
    "tasso_natalita = 1.3\n",
    "tasso_mortalita = 0.6\n",
    "\n",
    "for anno in range(anni):\n",
    "    nascite = (popolazione * tasso_natalita) / 100\n",
    "    morti = (popolazione * tasso_mortalita) / 100\n",
    "    popolazione = popolazione + nascite - morti\n",
    "    print(f\"Anno {anno + 1}: Popolazione={int(popolazione)}\")\n",
    "\n",
    "print(\"Simulazione completata.\")"
   ]
  },
  {
   "cell_type": "markdown",
   "id": "d736b245",
   "metadata": {},
   "source": [
    "# trasformatore di unita di misura"
   ]
  },
  {
   "cell_type": "code",
   "execution_count": 22,
   "id": "905a7151",
   "metadata": {},
   "outputs": [
    {
     "name": "stdout",
     "output_type": "stream",
     "text": [
      "Benvenuto nel convertitore di unità di Misura\n",
      "Cosa desideri convertire? (metri/piedi/chilogrammi/libbre): 100\n",
      "Scelta non valida. Scegli tra metri, piedi, chilogrammi o libbre.\n"
     ]
    }
   ],
   "source": [
    "print(\"Benvenuto nel convertitore di unità di Misura\")\n",
    "scelta = input(\"Cosa desideri convertire? (metri/piedi/chilogrammi/libbre): \").lower()\n",
    "\n",
    "if scelta == \"metri\":\n",
    "    valore = float(input(\"Inserisci il valore in metri: \"))\n",
    "    risultato = valore * 3.28084\n",
    "    print(f\"{valore} metri corrispondono a {risultato} piedi.\")\n",
    "elif scelta == \"piedi\":\n",
    "    valore = float(input(\"Inserisci il valore in piedi: \"))\n",
    "    risultato = valore / 3.28084\n",
    "    print(f\"{valore} piedi corrispondono a {risultato} metri.\")\n",
    "elif scelta == \"chilogrammi\":\n",
    "    valore = float(input(\"Inserisci il valore in chilogrammi: \"))\n",
    "    risultato = valore * 2.20462\n",
    "    print(f\"{valore} chilogrammi corrispondono a {risultato} libbre.\")\n",
    "elif scelta == \"libbre\":\n",
    "    valore = float(input(\"Inserisci il valore in libbre: \"))\n",
    "    risultato = valore / 2.20462\n",
    "    print(f\"{valore} libbre corrispondono a {risultato} chilogrammi.\")\n",
    "else:\n",
    "    print(\"Scelta non valida. Scegli tra metri, piedi, chilogrammi o libbre.\")"
   ]
  },
  {
   "cell_type": "markdown",
   "id": "c9d43596",
   "metadata": {},
   "source": [
    "# l'n-esimo numero di Fibonacci"
   ]
  },
  {
   "cell_type": "code",
   "execution_count": 21,
   "id": "8209cdbf",
   "metadata": {},
   "outputs": [
    {
     "name": "stdout",
     "output_type": "stream",
     "text": [
      "Inserisci un numero n per calcolare l'n-esimo numero di Fibonacci: 1\n",
      "L'n-esimo numero di Fibonacci è: 0\n"
     ]
    }
   ],
   "source": [
    "# Chiedere all'utente di inserire un numero n\n",
    "n = int(input(\"Inserisci un numero n per calcolare l'n-esimo numero di Fibonacci: \"))\n",
    "\n",
    "# Inizializzare le variabili per i primi due numeri di Fibonacci\n",
    "a = 0\n",
    "b = 1\n",
    "\n",
    "# Verificare se n è minore o uguale a 0\n",
    "if n <= 0:\n",
    "    print(\"Il numero deve essere maggiore di zero.\")\n",
    "# Verificare se n è 1 e stampare il risultato immediatamente\n",
    "elif n == 1:\n",
    "    risultato = a\n",
    "    print(\"L'n-esimo numero di Fibonacci è:\", risultato)\n",
    "else:\n",
    "    # Calcolare l'n-esimo numero di Fibonacci\n",
    "    for iterazione in range(2, n):\n",
    "        c = a + b\n",
    "        a = b\n",
    "        b = c\n",
    "\n",
    "    risultato = b\n",
    "\n",
    "    # Stampare l'n-esimo numero di Fibonacci\n",
    "    print(\"L'n-esimo numero di Fibonacci è:\", risultato)"
   ]
  },
  {
   "cell_type": "markdown",
   "id": "5b136581",
   "metadata": {},
   "source": [
    "# funzioni custum"
   ]
  },
  {
   "cell_type": "code",
   "execution_count": 1,
   "id": "cb88a680",
   "metadata": {},
   "outputs": [
    {
     "name": "stdout",
     "output_type": "stream",
     "text": [
      "inserisci il numero di termini della serie di Fibonacci da generare:12\n",
      "[0, 1, 1, 2, 3, 5, 8, 13, 21, 34, 55, 89]\n"
     ]
    }
   ],
   "source": [
    "def fibonacci(n):\n",
    "    fib_series=[0,1]\n",
    "\n",
    "    while len(fib_series) <n:\n",
    "        fib_series.append(fib_series[-1] +fib_series[-2])\n",
    "    return fib_series\n",
    "\n",
    "n=int(input(\"inserisci il numero di termini della serie di Fibonacci da generare:\"))\n",
    "\n",
    "if n<=0:\n",
    "    print(\"inserisci un numero positivo.\")\n",
    "else:\n",
    "    result=fibonacci(n)\n",
    "    print(result)"
   ]
  },
  {
   "cell_type": "markdown",
   "id": "c2cb606d",
   "metadata": {},
   "source": [
    "# froza gravitazionale"
   ]
  },
  {
   "cell_type": "code",
   "execution_count": 7,
   "id": "d905852d",
   "metadata": {},
   "outputs": [
    {
     "name": "stdout",
     "output_type": "stream",
     "text": [
      "Forza gravitazionale tra Terra e Luna: 1.9821503873233522e+20 newton\n"
     ]
    }
   ],
   "source": [
    "def forza_gravitazionale(n1, n2, r):\n",
    "    # Costante gravitazionale\n",
    "    G = 6.67430e-11  # N(m/kg)^2 (Nota: usa un punto al posto della virgola per numeri decimali)\n",
    "\n",
    "    # Calcola la forza gravitazionale\n",
    "    F = (G * n1 * n2) / (r ** 2)\n",
    "\n",
    "    return F\n",
    "\n",
    "# Esempio di utilizzo\n",
    "massa_terra = 5.977e24  # kg\n",
    "massa_luna = 7.342e22  # kg\n",
    "distanza_terra_luna = 384400000  # metri (Nota: ho moltiplicato per 10 per correggere l'ordine di grandezza)\n",
    "\n",
    "forza = forza_gravitazionale(massa_terra, massa_luna, distanza_terra_luna)\n",
    "print(f\"Forza gravitazionale tra Terra e Luna: {forza} newton\")"
   ]
  },
  {
   "cell_type": "markdown",
   "id": "54c48813",
   "metadata": {},
   "source": [
    "# angrammi"
   ]
  },
  {
   "cell_type": "code",
   "execution_count": 8,
   "id": "6ef5cb6c",
   "metadata": {},
   "outputs": [
    {
     "name": "stdout",
     "output_type": "stream",
     "text": [
      "Benvenuto nel risolutore di anagrammi!\n",
      "Inserisci una parola: ni\n",
      "in\n",
      "Gli anagrammi di 'ni' sono: 1\n"
     ]
    }
   ],
   "source": [
    "from itertools import permutations\n",
    "\n",
    "k = 0\n",
    "\n",
    "def trova_anagrammi(parola):\n",
    "    anagrammi = [''.join(p) for p in permutations(parola)]\n",
    "    return anagrammi\n",
    "\n",
    "print(\"Benvenuto nel risolutore di anagrammi!\")\n",
    "\n",
    "# Correggi l'errore di battitura qui, da \"inpuit\" a \"input\"\n",
    "parola_input = input(\"Inserisci una parola: \").strip().lower()\n",
    "\n",
    "if len(parola_input) < 2:\n",
    "    print(\"Inserisci una parola con almeno 2 caratteri.\")\n",
    "else:\n",
    "    anagrammi = trova_anagrammi(parola_input)\n",
    "\n",
    "    for anagramma in anagrammi:\n",
    "        if anagramma != parola_input:\n",
    "            k += 1\n",
    "            print(anagramma)\n",
    "\n",
    "    # Correggi il nome della variabile da \"K\" a \"k\" qui\n",
    "    print(f\"Gli anagrammi di '{parola_input}' sono: {k}\")"
   ]
  },
  {
   "cell_type": "markdown",
   "id": "c0179011",
   "metadata": {},
   "source": [
    "# cnteggio lettere del alfabeto"
   ]
  },
  {
   "cell_type": "code",
   "execution_count": 18,
   "id": "fc9c54f5",
   "metadata": {
    "scrolled": true
   },
   "outputs": [
    {
     "name": "stdout",
     "output_type": "stream",
     "text": [
      "Inserisci una frase: ciao\n",
      "a: 1\n",
      "c: 1\n",
      "i: 1\n",
      "o: 1\n"
     ]
    }
   ],
   "source": [
    "frase = input(\"Inserisci una frase: \")\n",
    "frase = frase.lower()\n",
    "alfabeto = 'abcdefghilmnopqrstuvwyz'\n",
    "conteggio_lettere = {}\n",
    "\n",
    "for lettera in alfabeto:\n",
    "    conteggio = frase.count(lettera)    \n",
    "    \n",
    "    if conteggio > 0:\n",
    "        conteggio_lettere[lettera] = conteggio\n",
    "\n",
    "for lettera, conteggio in conteggio_lettere.items():\n",
    "    print(f\"{lettera}: {conteggio}\")"
   ]
  },
  {
   "cell_type": "markdown",
   "id": "d4a4f62e",
   "metadata": {},
   "source": [
    "# conversione metri"
   ]
  },
  {
   "cell_type": "code",
   "execution_count": 1,
   "id": "5f75af28",
   "metadata": {},
   "outputs": [
    {
     "ename": "SyntaxError",
     "evalue": "invalid syntax (22194400.py, line 4)",
     "output_type": "error",
     "traceback": [
      "\u001b[0;36m  Cell \u001b[0;32mIn[1], line 4\u001b[0;36m\u001b[0m\n\u001b[0;31m    returm piedi / 3.28084\u001b[0m\n\u001b[0m           ^\u001b[0m\n\u001b[0;31mSyntaxError\u001b[0m\u001b[0;31m:\u001b[0m invalid syntax\n"
     ]
    }
   ],
   "source": [
    "def metri_a_piedi(metri):\n",
    "    return metri * 3.28084\n",
    "def priedi_a_metri (piedi):\n",
    "    returm piedi / 3.28084\n",
    "def chilogrammi_a_libre(chilogrammi):\n",
    "    return chilogrami * 2.20462\n",
    "def \n"
   ]
  },
  {
   "cell_type": "code",
   "execution_count": null,
   "id": "b53e875b",
   "metadata": {},
   "outputs": [],
   "source": [
    "# Chiedi all'utente di inserire una frase\n",
    "frase = input(\"Inserisci una frase: \")\n",
    "\n",
    "# Converti la frase in minuscolo per evitare problemi di maiuscole/minuscole\n",
    "frase = frase.lower()\n",
    "\n",
    "# Inizializza una lista di lettere dell'alfabeto\n",
    "alfaneto = \"abcdefghijklmnopqrstuvwxyz\"\n",
    "\n",
    "# Inizializza un dizionario per tenere traccia del conteggio del conteggio delle lettere\n",
    "conteggio_lettere = {}\n",
    "\n",
    "# Itera attraverso ciascuna lettera dell'alfabeto\n",
    "for lettera in alfabeto\n",
    "    # Conta quante volte appare la lettera nella frase\n",
    "    conteggio = frase.count (lettera)\n",
    "    \n",
    "    #aggiungi la lettera e il conteggio al dizionario se la lettera appare "
   ]
  },
  {
   "cell_type": "code",
   "execution_count": null,
   "id": "fedcc911",
   "metadata": {},
   "outputs": [],
   "source": [
    "def main():\n",
    "    print(\"La funzione principale del codice è stata eseguita.\")\n",
    "\n",
    "if __name__ == \"__main__\":\n",
    "    main()"
   ]
  },
  {
   "cell_type": "code",
   "execution_count": null,
   "id": "6afe15a6",
   "metadata": {},
   "outputs": [],
   "source": [
    "def calcola_bmi(peso, altezza):\n",
    "    return peso / (altezza ** 2)\n",
    "\n",
    "def valuta_bmi(bmi):\n",
    "    if bmi < 18.5:\n",
    "        return \"Sottopeso\"\n",
    "    elif 18.5 <= bmi < 24.9:\n",
    "        return \"Normopeso\"\n",
    "    elif 25 <= bmi < 29.9:\n",
    "        return \"Sovrapeso\"\n",
    "    else:\n",
    "        return \"Obeso\"\n",
    "\n",
    "def main():\n",
    "    print(\"Benvenuto nella Calcolatrice BMI!\")\n",
    "    peso = float(input(\"Inserisci il tuo peso in kilogrammi: \"))\n",
    "    altezza = float(input(\"Inserisci la tua altezza in metri: \"))\n",
    "    bmi = calcola_bmi(peso, altezza)\n",
    "    valutazione = valuta_bmi(bmi)\n",
    "    print(f\"Il tuo BMI è {bmi:.2f}, sei classificato come '{valutazione}'.\")\n",
    "\n",
    "if __name__ == \"__main__\":\n",
    "    main()"
   ]
  },
  {
   "cell_type": "code",
   "execution_count": null,
   "id": "84c49667",
   "metadata": {},
   "outputs": [],
   "source": [
    "import random\n",
    "frammenti = [\n",
    "\"Il segreto del successo è la perseveranza.\n",
    "\"Ogni giorno è una nuova opportunità per crescere.\",\n",
    "\"Non smettere mai di sognare e di lottare per i tuoi sogni.\n",
    "\"Le sfide sono solo occasioni per dimostrare il tuo valore\n",
    "\"Il fallimento è il trampolino di lancio per il successo.\"\n",
    "\"Credi in te stesso e gli altri seguiranno il tuo esempio.\n",
    "\"La tua determinazione determina la tua destinazione.\"\n",
    "\"Lavora sodo oggi per un futuro migliore domani.\"\n",
    "1\n",
    "\"La tua unica limitazione è la tua immaginazione.\n",
    "\"Non aspettare l'ispirazione, cerca di diventare un'ispirazione.\"\n",
    "\"Ogni passo in avanti ti avvicina al tuo obiettivo.\n",
    "!\n",
    "\"Le difficoltà rendono le vittorie ancora più dolci.\n",
    "\"Sii la versione migliore di te stesso ogni giorno.\",\n",
    "\"La pazienza è la chiave del successo a lungo termine.'\n",
    "\"Affronta le tue paure e conquista il mondo.\n",
    "\"Le piccole azioni costanti portano a grandi risultati.\n",
    "\"La tua mentalità è la chiave per il successo.\n",
    "\"L'ottimismo è il carburante dell'anima.\n",
    "\"Ogni giorno è un nuovo inizio, cogli l'opportunità.\",\n",
    "\"Il progresso non è sempre veloce, ma è sempre possibile.\"\n",
    "]\n",
    "def crea_citazione() :\n",
    "num\n",
    "_frammenti = random. randint (5, 7)\n",
    "citazione_random = random. sample (frammenti, num_frammenti)\n",
    "citazione = \" \".join(citazione_random)\n",
    "return citazione\n",
    "citazione generata = crea citazione ()\n",
    "print (\"Citazione generata:\")\n",
    "print(citazione_generata)"
   ]
  },
  {
   "cell_type": "code",
   "execution_count": null,
   "id": "d0118ef6",
   "metadata": {},
   "outputs": [],
   "source": [
    "import random\n",
    "# Possibili scelte per ogni attributo del personaggio\n",
    "speci = [\"'Umano\", \"Elfo\",\n",
    "\"Nano\".\n",
    "\"Orco\"1\n",
    "classi = [\"'Guerriero\",\n",
    "\"Mago\", \"Ladro\", \"Chierico\"]\n",
    "armi = ['Spada\", \"Arco\",\n",
    "\"Bastone\", \"Pugnale\"]\n",
    "abilita = [\"Fuoco\", \"Gelo\",\n",
    "\"Cura\"\n",
    ", \"Invisibilità\",\n",
    "\"Forza\", \"Velocità\"]\n",
    "# Scelte casuali per ogni attributo del personaggio\n",
    "specie = random. choice (speci)\n",
    "classe = random. choice (classi)\n",
    "arma = random. choice (armi)\n",
    "abilitas = random. sample(abilita, random. randint (1, 3)) # sample cosi decido io quanti e\n",
    "# Stampa delle informazioni del personaggio generato\n",
    "print(\"Personaggio fantasy generato: \")\n",
    "print (f\"Specie: {specie}\")\n",
    "print(f\"Classe: {classe}\")\n",
    "print (f'Arma: {arma}\")\n",
    "print (f\"Abilità: {',\n",
    "•join (abilitas)}\")"
   ]
  },
  {
   "cell_type": "code",
   "execution_count": null,
   "id": "f95c8c36",
   "metadata": {},
   "outputs": [
    {
     "name": "stdout",
     "output_type": "stream",
     "text": [
      "Menu: \n",
      "1. Aggiungi cibo consumato\n",
      "2. Calcola calorie totali\n",
      "3. Esci\n",
      "Scegli una opzione: pizza\n",
      "Scelta non valida. Riprova.\n",
      "Menu: \n",
      "1. Aggiungi cibo consumato\n",
      "2. Calcola calorie totali\n",
      "3. Esci\n",
      "Scegli una opzione: pizza\n",
      "Scelta non valida. Riprova.\n",
      "Menu: \n",
      "1. Aggiungi cibo consumato\n",
      "2. Calcola calorie totali\n",
      "3. Esci\n",
      "Scegli una opzione: 285\n",
      "Scelta non valida. Riprova.\n",
      "Menu: \n",
      "1. Aggiungi cibo consumato\n",
      "2. Calcola calorie totali\n",
      "3. Esci\n",
      "Scegli una opzione: \"pizza\"\n",
      "Scelta non valida. Riprova.\n",
      "Menu: \n",
      "1. Aggiungi cibo consumato\n",
      "2. Calcola calorie totali\n",
      "3. Esci\n",
      "Scegli una opzione: 1\n",
      "\n",
      "Ecco l'elenco di cibi disponibili:\n",
      "Pizza: 285 calorie per 100g\n",
      "Hamburger: 250 calorie per 100g\n",
      "Insalata: 100 calorie per 100g\n",
      "Inserisci il cibo consumato: pizza\n",
      "Inserisci la quantita in grammi: 1\n",
      "Menu: \n",
      "1. Aggiungi cibo consumato\n",
      "2. Calcola calorie totali\n",
      "3. Esci\n"
     ]
    }
   ],
   "source": [
    "cibo_calorie = {\n",
    "    \"pizza\": 285,\n",
    "    \"hamburger\": 250,\n",
    "    \"insalata\": 100,  \n",
    "}\n",
    "\n",
    "def calorie_consumate(cibo, quantita):\n",
    "    if cibo not in cibo_calorie.keys():\n",
    "        print(\"Cibo non presente.\")\n",
    "        return 0 \n",
    "    else:\n",
    "        return cibo_calorie[cibo] * quantita\n",
    "\n",
    "def main():\n",
    "    cibo_consumato = []\n",
    "\n",
    "    while True:\n",
    "        print(\"Menu: \")\n",
    "        print(\"1. Aggiungi cibo consumato\")\n",
    "        print(\"2. Calcola calorie totali\")\n",
    "        print(\"3. Esci\")\n",
    "        \n",
    "        scelta = input(\"Scegli una opzione: \")\n",
    "        \n",
    "        if scelta == \"1\":\n",
    "            print(\"\\nEcco l'elenco di cibi disponibili:\")\n",
    "            for key, value in cibo_calorie.items():\n",
    "                print(f\"{key.capitalize()}: {value} calorie per 100g\")\n",
    "            \n",
    "            cibo = input(\"Inserisci il cibo consumato: \").lower()\n",
    "            quantita = float(input(\"Inserisci la quantita in grammi: \"))\n",
    "            cibo_consumato.append((cibo, quantita))\n",
    "        \n",
    "        elif scelta == \"2\":\n",
    "            total_calories = sum(calorie_consumate(cibo, quantita) for cibo, quantita in cibo_consumato)\n",
    "            print(f\"Hai consumato un totale di {total_calories} calorie.\")\n",
    "        \n",
    "        elif scelta == \"3\":\n",
    "            print(\"Arrivederci!\")\n",
    "            break \n",
    "        \n",
    "        else:\n",
    "            print(\"Scelta non valida. Riprova.\")\n",
    "\n",
    "if __name__ == \"__main__\":\n",
    "    main()"
   ]
  },
  {
   "cell_type": "code",
   "execution_count": null,
   "id": "4950c961",
   "metadata": {},
   "outputs": [],
   "source": [
    "import random\n",
    "\n",
    "physical_traits = [\"Capelli neri\", \"Capelli biondi\", \"Occhi azzurri\", \"Alto\", \"Basso\", \"Barba lunga\"]\n",
    "personality_traits = [\"gentile\", \"arrogante\", \"timido\", \"audace\", \"curioso\"]\n",
    "backgrounds = [\"contadino\", \"nobile\", \"guerriero\", \"mercante\", \"mago\"]\n",
    "motivations = [\"vendetta\", \"ricchezza\", \"potere\"]\n",
    "\n",
    "def genera_personaggio():\n",
    "    nome = input(\"Inserisci il nome del personaggio: \")\n",
    "    aspetto_fisico = random.choice(physical_traits)\n",
    "    aspetto_personale = random.choice(personality_traits)\n",
    "    sfondo = random.choice(backgrounds)\n",
    "    motivazione = random.choice(motivations)\n",
    "\n",
    "    descrizione = (\n",
    "        f\"Nome: {nome}\\n\"\n",
    "        f\"Aspetto fisico: {aspetto_fisico}\\n\"\n",
    "        f\"Aspetto personale: {aspetto_personale}\\n\"\n",
    "        f\"Sfondo: {sfondo}\\n\"\n",
    "        f\"Motivazione: {motivazione}\"\n",
    "    )\n",
    "\n",
    "    return descrizione\n",
    "\n",
    "print(\"Generatore di personaggi\")\n",
    "print(genera_personaggio())"
   ]
  }
 ],
 "metadata": {
  "kernelspec": {
   "display_name": "Python 3 (ipykernel)",
   "language": "python",
   "name": "python3"
  },
  "language_info": {
   "codemirror_mode": {
    "name": "ipython",
    "version": 3
   },
   "file_extension": ".py",
   "mimetype": "text/x-python",
   "name": "python",
   "nbconvert_exporter": "python",
   "pygments_lexer": "ipython3",
   "version": "3.11.4"
  }
 },
 "nbformat": 4,
 "nbformat_minor": 5
}
