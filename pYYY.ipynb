{
 "cells": [
  {
   "cell_type": "markdown",
   "id": "7a9ca9ff",
   "metadata": {},
   "source": [
    "# BASI #"
   ]
  },
  {
   "cell_type": "code",
   "execution_count": 1,
   "id": "b17f14b6",
   "metadata": {},
   "outputs": [
    {
     "name": "stdout",
     "output_type": "stream",
     "text": [
      "Ciao, Mondo!\n"
     ]
    }
   ],
   "source": [
    "#stampa Ciao, Mondo!\n",
    "print(\"Ciao, Mondo!\")"
   ]
  },
  {
   "cell_type": "code",
   "execution_count": 3,
   "id": "4c390a20",
   "metadata": {},
   "outputs": [
    {
     "name": "stdout",
     "output_type": "stream",
     "text": [
      "Iserisci il nome: Davide\n",
      "sei troppo bello,  Davide !\n",
      "sei troppo bello,  Davide !\n",
      "sei troppo bello,  Davide !\n"
     ]
    }
   ],
   "source": [
    "#chiede il nome all utente\n",
    "name = input(\"Iserisci il nome: \")\n",
    "#for=per tutti\n",
    "for i in range(3): # in range (3) cioe lo ripetera 3 volte.\n",
    "    print(\"sei troppo bello, \", name, \"!\")"
   ]
  },
  {
   "cell_type": "markdown",
   "id": "fe4a62b4",
   "metadata": {},
   "source": [
    "# CALCOLATRICI #"
   ]
  },
  {
   "cell_type": "code",
   "execution_count": 1,
   "id": "0adefb10",
   "metadata": {},
   "outputs": [
    {
     "name": "stdout",
     "output_type": "stream",
     "text": [
      "Inserisci il primo numero : 12\n",
      "Inserisci il secondo numero : 34\n",
      "La somma dei due numeri è: 46\n",
      "La sottrazione dei due numeri è: -22\n",
      "La moltiplicazione dei due numeri è: 408\n",
      "La divisione dei due numeri è: 0.35294117647058826\n"
     ]
    }
   ],
   "source": [
    "#chiede all utente di mettere un numero intero\n",
    "num1 = int(input(\"Inserisci il primo numero : \"))\n",
    "#chiede all utente di mettere un numero intero\n",
    "num2 = int(input(\"Inserisci il secondo numero : \"))\n",
    "#inizzalizzo la variabile somma\n",
    "somma = num1 + num2\n",
    "#stampo il risultato\n",
    "print(\"La somma dei due numeri è:\", somma)\n",
    "#inizzalizzo la variabile sottrazione\n",
    "sottrazione = num1 - num2\n",
    "print(\"La sottrazione dei due numeri è:\", sottrazione)\n",
    "#inizzalizzo la variabile moltiplicazione\n",
    "moltiplicazione = num1 * num2\n",
    "print(\"La moltiplicazione dei due numeri è:\", moltiplicazione)\n",
    "#se il numero 2 e uguale a 0\n",
    "if num2 == 0:\n",
    "    #stampo Non è possibile dividere per zero\n",
    "    print(\"Non è possibile dividere per zero!\")\n",
    "    #senno facciamo la divisione\n",
    "else:\n",
    "    divisione = num1 / num2\n",
    "    print(\"La divisione dei due numeri è:\", divisione)"
   ]
  },
  {
   "cell_type": "code",
   "execution_count": 2,
   "id": "ff7d4fb8",
   "metadata": {},
   "outputs": [
    {
     "name": "stdout",
     "output_type": "stream",
     "text": [
      "Inserisci l'operazione : +\n",
      "Inserisci il primo numero: 33\n",
      "Inserisci il secondo numero: 22\n",
      "Il risultato di 33.0 + 22.0 è: 55.0\n"
     ]
    }
   ],
   "source": [
    "#chiede all utente di inserire all utente\n",
    "operazione = input(\"Inserisci l'operazione : \")\n",
    "#se l'operazione non e in questi simboli stampa l'operazione non valida\n",
    "if operazione not in ['+', '-', '*', '/']:\n",
    "    print(\"Operazione non valida\")\n",
    "else: # Se l'input è nell'operazione:\n",
    "    num1 = float(input(\"Inserisci il primo numero: \"))\n",
    "    #chiede all utente di inserire un numero\n",
    "    num2 = float(input(\"Inserisci il secondo numero: \"))\n",
    "    \n",
    "    #se l'operazione è uguale a +\n",
    "    if operazione == \"+\":\n",
    "        #il risultato sarà num1 à num2\n",
    "        risultato = num1 + num2  # Somma i due numeri\n",
    "    elif operazione == \"-\":\n",
    "        risultato = num1 - num2  # Sottrae il secondo numero dal primo\n",
    "    elif operazione == \"*\":\n",
    "        risultato = num1 * num2  # Moltiplica i due numeri\n",
    "    elif operazione == \"/\":\n",
    "        if num2 == 0:\n",
    "            risultato = \"Non è possibile dividere per zero!\"\n",
    "        else:\n",
    "            risu\n",
    "        ltato = num1 / num2  # Divide il primo numero per il secondo\n",
    "\n",
    "    print(f\"Il risultato di {num1} {operazione} {num2} è: {risultato}\")\n",
    "    #f string si mettono le variabili con le {} al posto delle ,"
   ]
  },
  {
   "cell_type": "code",
   "execution_count": 4,
   "id": "e33a7790",
   "metadata": {},
   "outputs": [
    {
     "name": "stdout",
     "output_type": "stream",
     "text": [
      "Inserisci un numero positivo: 4\n",
      "1 è un numero dispari.\n",
      "2 è un numero pari.\n",
      "3 è un numero dispari.\n",
      "4 è un numero pari.\n"
     ]
    }
   ],
   "source": [
    "#chiede all utente di inserire un numero positivo\n",
    "n = int(input(\"Inserisci un numero positivo: \"))\n",
    "#se n e minore o uguale a 0 stampa un numero positivo\n",
    "if n <= 0:\n",
    "    print(\"Per favore, inserisci un numero positivo.\")\n",
    "else: # Se il numero è positivo:\n",
    "    for numero in range(1, n+1):\n",
    "        #se il numero diviso 2 e con resto 0\n",
    "        if numero % 2 == 0:\n",
    "            #stampa il numero pari\n",
    "            print(f\"{numero} è un numero pari.\")\n",
    "        else:\n",
    "            #stampa il numero dispari\n",
    "            print(f\"{numero} è un numero dispari.\")"
   ]
  },
  {
   "cell_type": "code",
   "execution_count": 5,
   "id": "60b849b1",
   "metadata": {},
   "outputs": [
    {
     "name": "stdout",
     "output_type": "stream",
     "text": [
      "inserisci un numero intero positivo: 3\n",
      "la somma dei primi 3 numeri interi è 6\n"
     ]
    }
   ],
   "source": [
    "#chiede all utente di inserire un numero intero positivo\n",
    "n = int(input(\"inserisci un numero intero positivo: \"))\n",
    "# la variabile che abbiamo impostato è \"01\"\n",
    "somma = 0 \n",
    "#per tutti i numeri che vanno da 1 al numero che abbiamo inserito prima + 1\n",
    "for numero in range(1, n+1):\n",
    "    #la somma e uguale al numero di prima piu il nuovo numero +1\n",
    "    somma += numero \n",
    "\n",
    "print(\"la somma dei primi\", n, \"numeri interi è\", somma)"
   ]
  },
  {
   "cell_type": "code",
   "execution_count": 6,
   "id": "4be08f0b",
   "metadata": {},
   "outputs": [
    {
     "name": "stdout",
     "output_type": "stream",
     "text": [
      "inserisci un numero: 33\n",
      "33 non è un numero pari, è dispari\n"
     ]
    }
   ],
   "source": [
    "numero = int(input(\"inserisci un numero: \"))\n",
    "#se il numero diviso 2 da come resto 0 \n",
    "if numero % 2 == 0:\n",
    "    #stampa numero pari\n",
    "    print(numero, \"è un numero pari\")\n",
    "else:\n",
    "    #senno stampa il numero dispari\n",
    "    print(numero, \"non è un numero pari, è dispari\")"
   ]
  },
  {
   "cell_type": "code",
   "execution_count": 7,
   "id": "8d283e20",
   "metadata": {},
   "outputs": [
    {
     "name": "stdout",
     "output_type": "stream",
     "text": [
      "inserisci un numero positivo: 44\n",
      "Il fattoriale di 44 è 2658271574788448768043625811014615890319638528000000000\n"
     ]
    }
   ],
   "source": [
    "#l'utente chiede di inserire un numero positivo\n",
    "numero = int(input(\"inserisci un numero positivo: \"))\n",
    "#creamo questa variabile che si chiama fattoriale e mettiamo 1\n",
    "fattoriale = 1\n",
    "#se il numero e minore a 0\n",
    "if numero < 0:\n",
    "    #stampa il fattore non e definito per numeri negativi\n",
    "    print(\"Il fattoriale non è definito per numeri negativi.\")\n",
    "    #se numero da 0\n",
    "elif numero == 0:\n",
    "    #stampa il fattoriale di 0 è 1 \n",
    "    print(\"Il fattoriale di 0 è 1.\")\n",
    "else:\n",
    "    #senno per i che va da 1 numero +1\n",
    "    for i in range(1, numero + 1):\n",
    "        # moltiplica il fattoriale corrente per i\n",
    "        fattoriale *= i \n",
    "        #stampa il fattoriale del numero scritto dal utente è il fattoriale del numero\n",
    "    print(f\"Il fattoriale di {numero} è {fattoriale}\")"
   ]
  },
  {
   "cell_type": "markdown",
   "id": "014c61b1",
   "metadata": {},
   "source": [
    "# COME CALCOLARE LA MEDIA #"
   ]
  },
  {
   "cell_type": "code",
   "execution_count": 8,
   "id": "50b659b6",
   "metadata": {},
   "outputs": [
    {
     "name": "stdout",
     "output_type": "stream",
     "text": [
      "Quanti numeri vuoi inserire?: 5\n",
      "Inserisci un numero: 22\n",
      "Inserisci un numero: 55\n",
      "Inserisci un numero: 3\n",
      "Inserisci un numero: 22\n",
      "Inserisci un numero: 44\n",
      "La media dei numeri inseriti è:  29.2\n"
     ]
    }
   ],
   "source": [
    "#creo una lista di nome numeri\n",
    "numeri = []\n",
    "#chiede all utente di inserire quanti numeri vuoi inserire\n",
    "n = int(input(\"Quanti numeri vuoi inserire?: \"))\n",
    "# per tutti i numeri che vuoi inserire \n",
    "for i in range(n):\n",
    "    #chiede all utente di inserire un numero \n",
    "    numero = float(input(\"Inserisci un numero: \"))\n",
    "    # appendi il nuemro alla lista dei numeri\n",
    "    numeri.append(numero) \n",
    "media = sum(numeri) / len(numeri) \n",
    "print(\"La media dei numeri inseriti è: \", media)"
   ]
  },
  {
   "cell_type": "markdown",
   "id": "136907c2",
   "metadata": {},
   "source": [
    "# GIOCO DELL'INDOVINELLO #"
   ]
  },
  {
   "cell_type": "code",
   "execution_count": 9,
   "id": "62bb6832",
   "metadata": {},
   "outputs": [
    {
     "name": "stdout",
     "output_type": "stream",
     "text": [
      "Indovina il numero da 1 a 10: 4\n",
      "Il numero è più grande\n",
      "Indovina il numero da 1 a 10: 5\n",
      "Il numero è più grande\n",
      "Indovina il numero da 1 a 10: 6\n",
      "Il numero è più grande\n",
      "Indovina il numero da 1 a 10: 7\n",
      "Il numero è più grande\n",
      "Indovina il numero da 1 a 10: 8\n",
      "Bravo hai indovinato il numero 8 in 5 tentativi!\n"
     ]
    }
   ],
   "source": [
    "#importa una libreria chiamata random\n",
    "import random\n",
    "#inizializziamo il numero da indovinare che sarà da 1 a 10 \n",
    "numero_da_indovinare = random.randint(1, 10)\n",
    "\n",
    "tentativi = 0\n",
    "\n",
    "while True: \n",
    "    #chiede all utente di inserire un numero da 1 a 10\n",
    "    tentativo = int(input(\"Indovina il numero da 1 a 10: \"))\n",
    "    tentativi += 1\n",
    "\n",
    "    if tentativo == numero_da_indovinare:\n",
    "        print(\"Bravo hai indovinato il numero\", numero_da_indovinare, \"in\", tentativi, \"tentativi!\")\n",
    "        break  # Esci dal ciclo se il numero è corretto\n",
    "    elif tentativo < numero_da_indovinare: # se il tentativo è piu piccoolo del numero da indovinare, stampa :\n",
    "        print(\"Il numero è più grande\")\n",
    "    else:\n",
    "        print(\"Il numero è più piccolo\") # se il tentativo è piu grande del numero da indovinare, stampa :"
   ]
  },
  {
   "cell_type": "markdown",
   "id": "ed051562",
   "metadata": {},
   "source": [
    "# GIOCO DELLA MORRA CINESE #"
   ]
  },
  {
   "cell_type": "code",
   "execution_count": 10,
   "id": "847892e5",
   "metadata": {},
   "outputs": [
    {
     "name": "stdout",
     "output_type": "stream",
     "text": [
      "Benvenuti al gioco della morra cinese!\n",
      "Scegli la tua mossa (carta, forbice, sasso): sasso\n",
      "Il computer ha scelto: forbice\n",
      "Hai vinto!\n"
     ]
    }
   ],
   "source": [
    "#aggiungiamo la libreria random\n",
    "import random\n",
    "#creamo una lista di mosse carta forbice sasso\n",
    "mosse = [\"carta\", \"forbice\", \"sasso\"]\n",
    "#.choice server per scegliere casualmente in mezzo ad una lista(in questo caso)\n",
    "computer_mossa = random.choice(mosse) \n",
    "#stampa Benvenuti al gioco della morra cinese!\n",
    "print(\"Benvenuti al gioco della morra cinese!\")\n",
    "#chiede all utente di fare la sua mossa carta forbice sasso\n",
    "scelta_giocatore = input(\"Scegli la tua mossa (carta, forbice, sasso): \")\n",
    "#se la scelta del giocatore non e nella lista delle mosse\n",
    "if scelta_giocatore not in mosse:\n",
    "    #stampa Errore, mossa non valida\n",
    "    print(\"Errore, mossa non valida!\")\n",
    "    #senno stampa la scelta del computer\n",
    "else:\n",
    "    print(\"Il computer ha scelto:\", computer_mossa)\n",
    "    #se la scelta giocatore e uguale alla scelta del computer\n",
    "    if scelta_giocatore == computer_mossa:\n",
    "        #stampa pareggio\n",
    "        print(\"Pareggio!\")\n",
    "        #controlla le condizioni di vittoria\n",
    "    elif (\n",
    "        (scelta_giocatore == \"carta\" and computer_mossa == \"sasso\") or \n",
    "        (scelta_giocatore == \"forbice\" and computer_mossa == \"carta\") or \n",
    "        (scelta_giocatore == \"sasso\" and computer_mossa == \"forbice\")\n",
    "    ):\n",
    "        #stampa hai vinto\n",
    "        print(\"Hai vinto!\")\n",
    "        #senno stampa hai perso\n",
    "    else:\n",
    "        print(\"Hai perso!\")"
   ]
  },
  {
   "cell_type": "markdown",
   "id": "99a79952",
   "metadata": {},
   "source": [
    "# SOMMA DEI PRIMI N NUMERI PARI #"
   ]
  },
  {
   "cell_type": "code",
   "execution_count": 11,
   "id": "227cccac",
   "metadata": {},
   "outputs": [
    {
     "name": "stdout",
     "output_type": "stream",
     "text": [
      "inserisci un numero intero positivo n: 22\n",
      "La somma dei primi 22 numeri pari è 506\n"
     ]
    }
   ],
   "source": [
    "# Chiede un numero intero positivo all'utente\n",
    "N = int(input(\"inserisci un numero intero positivo n: \"))\n",
    "\n",
    "# Inizializza la somma a zero\n",
    "somma = 0\n",
    "\n",
    "# Calcola la somma dei primi N numeri pari\n",
    "for numero in range(2, 2 * N + 1, 2): \n",
    "    somma += numero \n",
    "\n",
    "# Stampa il risultato\n",
    "print(f\"La somma dei primi {N} numeri pari è {somma}\")"
   ]
  },
  {
   "cell_type": "code",
   "execution_count": 12,
   "id": "9d8055df",
   "metadata": {},
   "outputs": [
    {
     "name": "stdout",
     "output_type": "stream",
     "text": [
      "Inserisci un numero intero positivo n: 12\n",
      "[2, 4, 6, 8, 10, 12, 14, 16, 18, 20, 22, 24]\n"
     ]
    }
   ],
   "source": [
    "# Chiede un numero intero positivo all'utente\n",
    "N = int(input(\"Inserisci un numero intero positivo n: \"))\n",
    "\n",
    "# Crea una lista vuota\n",
    "lista = []\n",
    "\n",
    "# Aggiunge i primi N numeri pari alla lista\n",
    "for numero in range(2, 2 * N + 1, 2):\n",
    "    lista.append(numero)\n",
    "\n",
    "# Stampa la lista\n",
    "print(lista)"
   ]
  },
  {
   "cell_type": "markdown",
   "id": "912476c8",
   "metadata": {},
   "source": [
    "# CONTEGGIO VOCALI #"
   ]
  },
  {
   "cell_type": "code",
   "execution_count": 13,
   "id": "5d588733",
   "metadata": {},
   "outputs": [
    {
     "name": "stdout",
     "output_type": "stream",
     "text": [
      "Inserisci una frase: Giancarlo ha sbagliato\n",
      "Nella frase inserita ci sono 9 vocali.\n"
     ]
    }
   ],
   "source": [
    "# Chiede all'utente di inserire una frase e la converte in minuscolo\n",
    "frase = input(\"Inserisci una frase: \").lower()\n",
    "\n",
    "# Inizializza il conteggio delle vocali a zero\n",
    "conteggio_vocali = 0\n",
    "\n",
    "# Definisce le vocali\n",
    "vocali = \"aàeèéiìoòuù\"\n",
    "\n",
    "# Conta il numero di vocali nella frase\n",
    "for carattere in frase: \n",
    "    if carattere in vocali:\n",
    "        conteggio_vocali += 1\n",
    "\n",
    "# Stampa il numero di vocali trovate nella frase\n",
    "print(f\"Nella frase inserita ci sono {conteggio_vocali} vocali.\")"
   ]
  },
  {
   "cell_type": "code",
   "execution_count": 3,
   "id": "85f866d5",
   "metadata": {},
   "outputs": [
    {
     "name": "stdout",
     "output_type": "stream",
     "text": [
      "Inserisci la popolazione: 1000\n",
      "Inserisci l'anno: 4\n",
      "Inserisci il tasso di natalità: 55\n",
      "Inserisci il tasso di mortalità: 22\n",
      "Anno 1: Popolazione = 1330\n",
      "Anno 2: Popolazione = 1768\n",
      "Anno 3: Popolazione = 2352\n",
      "Anno 4: Popolazione = 3129\n",
      "Simulazione completata\n"
     ]
    }
   ],
   "source": [
    "# Chiede all'utente la popolazione iniziale\n",
    "popolazione = int(input(\"Inserisci la popolazione: \"))\n",
    "\n",
    "# Chiede all'utente quanti anni simulare\n",
    "anni = int(input(\"Inserisci l'anno: \"))\n",
    "\n",
    "# Chiede all'utente il tasso di natalità in percentuale\n",
    "tasso_natalita = float(input(\"Inserisci il tasso di natalità: \"))\n",
    "\n",
    "# Chiede all'utente il tasso di mortalità in percentuale\n",
    "tasso_mortalita = float(input(\"Inserisci il tasso di mortalità: \"))\n",
    "\n",
    "# Simula la crescita della popolazione per gli anni specificati\n",
    "for anno in range(anni): \n",
    "    # Calcola il numero di nascite basato sul tasso di natalità\n",
    "    nascite = (popolazione * tasso_natalita) / 100\n",
    "    \n",
    "    # Calcola il numero di morti basato sul tasso di mortalità\n",
    "    morti = (popolazione * tasso_mortalita) / 100   \n",
    "    \n",
    "    # Aggiorna la popolazione considerando nascite e morti\n",
    "    popolazione += (nascite - morti)  \n",
    "    \n",
    "    # Stampa la popolazione dell'anno corrente\n",
    "    print(f\"Anno {anno + 1}: Popolazione = {int(popolazione)}\") # L'aggiunta di 1 all'anno serve per far partire il conteggio da 1\n",
    "    \n",
    "# Stampa un messaggio di fine simulazione\n",
    "print(\"Simulazione completata\")"
   ]
  },
  {
   "cell_type": "code",
   "execution_count": 4,
   "id": "81345e61",
   "metadata": {},
   "outputs": [
    {
     "name": "stdout",
     "output_type": "stream",
     "text": [
      "18 10 2023\n"
     ]
    }
   ],
   "source": [
    "# Importa la libreria datetime\n",
    "import datetime\n",
    "\n",
    "# Ottiene la data di oggi\n",
    "today = datetime.datetime.today()\n",
    "\n",
    "# Stampa la data nel formato \"giorno mese anno\"\n",
    "print(today.strftime(\"%d %m %Y\"))"
   ]
  },
  {
   "cell_type": "code",
   "execution_count": 5,
   "id": "193026a1",
   "metadata": {},
   "outputs": [
    {
     "name": "stdout",
     "output_type": "stream",
     "text": [
      "Benvenuti nel programma di conversione di unità di misura!\n",
      "Cosa desideri convertire? (metri/piedi/chilogrammi/libbre)metri\n",
      "Inserisci il valore in metri: 44\n",
      "44.0 metri corrispondono a 144.32 piedi.\n"
     ]
    }
   ],
   "source": [
    "# Stampa un messaggio di benvenuto\n",
    "print(\"Benvenuti nel programma di conversione di unità di misura!\")\n",
    "\n",
    "# Chiede all'utente quale conversione desidera eseguire\n",
    "scelta = input(\"Cosa desideri convertire? (metri/piedi/chilogrammi/libbre)\").lower()\n",
    "\n",
    "# Verifica se l'utente ha scelto di convertire metri in piedi\n",
    "if scelta == \"metri\": \n",
    "    valore = float(input(\"Inserisci il valore in metri: \"))\n",
    "    risultato = valore * 3.280\n",
    "    print(f\"{valore} metri corrispondono a {risultato} piedi.\")\n",
    "\n",
    "# Verifica se l'utente ha scelto di convertire piedi in metri\n",
    "elif scelta == \"piedi\":\n",
    "    valore = float(input(\"Inserisci il valore in piedi: \"))\n",
    "    risultato = valore * 0.304\n",
    "    print(f\"{valore} piedi corrispondono a {risultato} metri.\")\n",
    "\n",
    "# Verifica se l'utente ha scelto di convertire chilogrammi in libbre\n",
    "elif scelta == \"chilogrammi\":\n",
    "    valore = float(input(\"Inserisci il valore in chilogrammi: \"))\n",
    "    risultato = valore * 2.204\n",
    "    print(f\"{valore} chilogrammi corrispondono a {risultato} libbre.\")\n",
    "\n",
    "# Verifica se l'utente ha scelto di convertire libbre in chilogrammi\n",
    "elif scelta == \"libbre\":\n",
    "    valore = float(input(\"Inserisci il valore in libbre: \"))\n",
    "    risultato = valore * 0.453\n",
    "    print(f\"{valore} libbre corrispondono a {risultato} chilogrammi.\")\n",
    "\n",
    "# Gestisce eventuali scelte non valide\n",
    "else:\n",
    "    print(\"Scelta non valida\")"
   ]
  },
  {
   "cell_type": "code",
   "execution_count": 9,
   "id": "1f074409",
   "metadata": {},
   "outputs": [
    {
     "name": "stdout",
     "output_type": "stream",
     "text": [
      "Inserisci un numero n per calcolare l'n-esimo numero di Fibonacci: 33\n",
      "Il 33-esimo numero di Fibonacci è 1346269\n"
     ]
    }
   ],
   "source": [
    "# Chiede all'utente un numero per trovare l'n-esimo numero della sequenza di Fibonacci\n",
    "n = int(input(\"Inserisci un numero n per calcolare l'n-esimo numero di Fibonacci: \"))\n",
    "\n",
    "# Inizializzazione dei primi due numeri della sequenza di Fibonacci\n",
    "a = 0  \n",
    "b = 1\n",
    "\n",
    "# Inizializzazione del terzo numero, che rappresenterà il prossimo numero nella sequenza\n",
    "c = a + b\n",
    "\n",
    "# Verifica se il numero inserito è minore o uguale a 0\n",
    "if n <= 0:\n",
    "    print(\"Il numero deve essere maggiore di 0.\")\n",
    "\n",
    "# Se l'utente chiede il primo numero della sequenza di Fibonacci\n",
    "elif n == 1:\n",
    "    risultato = 0\n",
    "\n",
    "# Calcolo dell'n-esimo numero della sequenza di Fibonacci\n",
    "else:\n",
    "    for iterazione in range(n-3):\n",
    "        c = a + b  # Calcolo del nuovo numero nella sequenza come somma dei due precedenti\n",
    "        a = b  # Aggiornamento della variabile a per il prossimo ciclo\n",
    "        b = c  # Aggiornamento della variabile b per il prossimo ciclo\n",
    "\n",
    "    # Assegna il risultato all'ultimo numero calcolato nella sequenza\n",
    "    risultato = c\n",
    "\n",
    "# Stampa l'n-esimo numero della sequenza di Fibonacci\n",
    "print (f\"Il {n}-esimo numero di Fibonacci è {risultato}\")"
   ]
  },
  {
   "cell_type": "markdown",
   "id": "35d37d2d",
   "metadata": {},
   "source": [
    "# FUNZIONI CUSTOM #"
   ]
  },
  {
   "cell_type": "code",
   "execution_count": 10,
   "id": "c9f307e6",
   "metadata": {},
   "outputs": [
    {
     "name": "stdout",
     "output_type": "stream",
     "text": [
      "lasagna\n"
     ]
    }
   ],
   "source": [
    "# Definizione di una funzione chiamata lasagna\n",
    "def lasagna():\n",
    "    # La funzione restituisce la stringa lasagna\n",
    "    return \"lasagna\"\n",
    "\n",
    "# Chiamata della funzione 'lasagna' e memorizzazione del risultato nella variabile result\n",
    "result = lasagna()\n",
    "\n",
    "# Stampa il valore contenuto nella variabile result\n",
    "print(result)"
   ]
  },
  {
   "cell_type": "code",
   "execution_count": 11,
   "id": "1d04f963",
   "metadata": {},
   "outputs": [
    {
     "name": "stdout",
     "output_type": "stream",
     "text": [
      "Inserisci il numero di termini della serie di fibonacci da generare: 3\n",
      "[0, 1, 1]\n"
     ]
    }
   ],
   "source": [
    "# Definizione di una funzione chiamata  fibonacci\n",
    "def fibonacci(n):\n",
    "    # Inizia la serie di Fibonacci con i primi due numeri\n",
    "    fib_series = [0, 1]\n",
    "    \n",
    "    # Continua ad aggiungere numeri alla serie fino a raggiungere la lunghezza desiderata\n",
    "    while len(fib_series) < n:\n",
    "        # Aggiunge alla lista il valore ottenuto sommando gli ultimi due numeri della serie\n",
    "        fib_series.append(fib_series[-1] + fib_series[-2])\n",
    "    \n",
    "    # Restituisce la serie di Fibonacci completa\n",
    "    return fib_series\n",
    "\n",
    "# Chiede all'utente quanti termini della serie di Fibonacci vuole generare\n",
    "n = int(input(\"Inserisci il numero di termini della serie di fibonacci da generare: \"))\n",
    "\n",
    "# Verifica se il numero inserito è negativo o zero\n",
    "if n <= 0:\n",
    "    print(\"Inserisci un numero positivo.\")\n",
    "else:\n",
    "    # Ottiene la serie di Fibonacci della lunghezza desiderata\n",
    "    result = fibonacci(n)\n",
    "    # Stampa la serie di Fibonacci\n",
    "    print(result)"
   ]
  },
  {
   "cell_type": "code",
   "execution_count": 12,
   "id": "89f202f2",
   "metadata": {},
   "outputs": [
    {
     "name": "stdout",
     "output_type": "stream",
     "text": [
      "Benvenuto nella calcolatrice dell'area!\n",
      "Vuoi calcolare l'area di un cerchio del rettangolo del triangolo o del quadratot\n",
      "Inserisci la base del triangolo: 22\n",
      "Inserisci l'altezza del triangolo: 55\n",
      "L'area del triangolo è 605.00\n"
     ]
    }
   ],
   "source": [
    "import math\n",
    "\n",
    "def calcola_area_cerchio(raggio):\n",
    "    return math.pi * (raggio ** 2) \n",
    "\n",
    "def calcola_area_rettangolo(base, altezza):\n",
    "    return base * altezza \n",
    "\n",
    "def calcola_area_triangolo(base, altezza):\n",
    "    return base * altezza / 2 \n",
    "\n",
    "def calcola_area_quadrato(lato):\n",
    "    return lato * lato  \n",
    "\n",
    "print(\"Benvenuto nella calcolatrice dell'area!\")\n",
    "\n",
    "scelta = input(\"Vuoi calcolare l'area di un cerchio del rettangolo del triangolo o del quadrato\")\n",
    "\n",
    "if scelta == \"c\":\n",
    "    raggio = float(input(\"Inserisci il raggio del cerchio: \"))  \n",
    "    area = calcola_area_cerchio(raggio)  \n",
    "    print(f\"L'area del cerchio è {area:.2f}\")  \n",
    "elif scelta == \"r\":\n",
    "    base = float(input(\"Inserisci la base del rettangolo: \")) \n",
    "    altezza = float(input(\"Inserisci l'altezza del rettangolo: \")) \n",
    "    area = calcola_area_rettangolo(base, altezza)  \n",
    "    print(f\"L'area del rettangolo è {area:.2f}\")\n",
    "elif scelta == \"t\":\n",
    "    base = float(input(\"Inserisci la base del triangolo: \"))  \n",
    "    altezza = float(input(\"Inserisci l'altezza del triangolo: \")) \n",
    "    area = calcola_area_triangolo(base, altezza) \n",
    "    print(f\"L'area del triangolo è {area:.2f}\")  \n",
    "elif scelta == \"q\":\n",
    "    lato = float(input(\"Inserisci la misura del lato: \")) \n",
    "    area = calcola_area_quadrato(lato)\n",
    "    print(f\"L'area del quadrato è: {area:.2f}\")  "
   ]
  },
  {
   "cell_type": "code",
   "execution_count": 13,
   "id": "422a1d49",
   "metadata": {},
   "outputs": [
    {
     "name": "stdout",
     "output_type": "stream",
     "text": [
      "Benvenuto al calcolatore di interessi!\n",
      "Inserisci L'importo iniziale: 45\n",
      "Inserisci il tasso di interesse annuale(%): 33\n",
      "Inserisci il periodo di investimento (anni): 22\n",
      "L'importo finale è 23875.287780526243\n"
     ]
    }
   ],
   "source": [
    "# Definizione della funzione che calcola gli interessi composti.\n",
    "def calcola_interessi(importo_iniziale, tasso_interesse, periodi_investimento):\n",
    "    # Formula per calcolare l'importo finale con interesse composto.\n",
    "    importo_finale = importo_iniziale * (1 + tasso_interesse/100) ** periodi_investimento\n",
    "    return importo_finale\n",
    "\n",
    "print(\"Benvenuto al calcolatore di interessi!\")\n",
    "\n",
    "# Richiesta all'utente dell'importo iniziale.\n",
    "importo_iniziale = float(input(\"Inserisci L'importo iniziale: \"))\n",
    "\n",
    "# Richiesta all'utente del tasso di interesse annuale.\n",
    "tasso_interesse = float(input(\"Inserisci il tasso di interesse annuale(%): \"))\n",
    "\n",
    "# Richiesta all'utente del numero di anni dell'investimento.\n",
    "periodi_investimento = float(input(\"Inserisci il periodo di investimento (anni): \"))\n",
    "\n",
    "# Utilizzo della funzione definita in precedenza per calcolare l'importo finale.\n",
    "importo_finale = calcola_interessi(importo_iniziale, tasso_interesse, periodi_investimento)\n",
    "\n",
    "# Stampa dell'importo finale all'utente.\n",
    "print(f\"L'importo finale è {importo_finale}\")"
   ]
  },
  {
   "cell_type": "code",
   "execution_count": 16,
   "id": "788d35d4",
   "metadata": {},
   "outputs": [
    {
     "name": "stdout",
     "output_type": "stream",
     "text": [
      "Inserisci l'importo da convertire: 18\n",
      "Inserisci la valuta di partenza: euro\n",
      "Inserisci la valuta di destinazione: dollari\n",
      "18.0 euro sono equivalenti a 21.18 dollari\n"
     ]
    }
   ],
   "source": [
    "tassi_di_cambio = {\n",
    "        \"dollari\": 1.0,\n",
    "        \"euro\": 0.85,\n",
    "        \"yen\": 110.41,\n",
    "}\n",
    "\n",
    "importo = float(input(\"Inserisci l'importo da convertire: \"))\n",
    "\n",
    "valuta_di_partenza = input(\"Inserisci la valuta di partenza: \").lower()\n",
    "valuta_di_destinazione = input(\"Inserisci la valuta di destinazione: \").lower()\n",
    "\n",
    "if valuta_di_partenza in tassi_di_cambio and valuta_di_destinazione in tassi_di_cambio:\n",
    "    tasso_di_cambio = tassi_di_cambio[valuta_di_destinazione] / tassi_di_cambio[valuta_di_partenza]\n",
    "    \n",
    "    importo_convertito = importo * tasso_di_cambio\n",
    "    \n",
    "    print(f\"{importo} {valuta_di_partenza} sono equivalenti a {importo_convertito:.2f} {valuta_di_destinazione}\")\n",
    "else:\n",
    "    print(\"Valute non supportate\")"
   ]
  },
  {
   "cell_type": "markdown",
   "id": "c6caf1d0",
   "metadata": {},
   "source": [
    "# QUANTE LETTERE IN UNA FRASE? #"
   ]
  },
  {
   "cell_type": "code",
   "execution_count": 17,
   "id": "53526eb8",
   "metadata": {},
   "outputs": [
    {
     "name": "stdout",
     "output_type": "stream",
     "text": [
      "Inserisci una frase: eg9iow-eu79buejsb-[uaqbswf-9oaq e-qfagq\n",
      "a: 3\n",
      "b: 3\n",
      "e: 4\n",
      "f: 2\n",
      "g: 2\n",
      "i: 1\n",
      "j: 1\n",
      "o: 2\n",
      "q: 4\n",
      "s: 2\n",
      "u: 3\n",
      "w: 2\n"
     ]
    }
   ],
   "source": [
    "frase = input(\"Inserisci una frase: \").lower()\n",
    "\n",
    "alfabeto = \"abcdefghijklmnopqrstuvwxyz\"\n",
    "\n",
    "conteggio_lettere = {}\n",
    "\n",
    "for lettera in alfabeto:\n",
    "    conteggio = frase.count(lettera)\n",
    "    \n",
    "    if conteggio > 0:\n",
    "        conteggio_lettere[lettera] = conteggio\n",
    "        \n",
    "for lettera, conteggio in conteggio_lettere.items():\n",
    "    print(f\"{lettera}: {conteggio}\")"
   ]
  },
  {
   "cell_type": "markdown",
   "id": "83eda2f1",
   "metadata": {},
   "source": [
    "# BMI #"
   ]
  },
  {
   "cell_type": "code",
   "execution_count": 21,
   "id": "56698050",
   "metadata": {},
   "outputs": [
    {
     "name": "stdout",
     "output_type": "stream",
     "text": [
      "Benvenuto nella calcolatrice BMI!\n",
      "Inserisci il peso in chilogrammi: 44\n",
      "Inserisci l'altezza in metri: 55\n",
      "Il BMI è 0.01, sei classificato come sottopeso. \n"
     ]
    }
   ],
   "source": [
    "# Definizione della funzione che calcola il BMI.\n",
    "def calcola_bmi(peso, altezza):\n",
    "    return peso / (altezza ** 2)\n",
    "\n",
    "# Definizione della funzione che valuta la categoria del BMI.\n",
    "def valuta_bmi(bmi):\n",
    "    if bmi < 18.5:\n",
    "        return \"sottopeso\"\n",
    "    elif 18.5 <= bmi < 24.9:\n",
    "        return \"normopeso\"\n",
    "    elif 25 <= bmi < 29.9:\n",
    "        return \"sovrappeso\"\n",
    "    else:\n",
    "        return \"obeso\"\n",
    "\n",
    "# Funzione principale che guida l'utente attraverso il programma.\n",
    "def main():\n",
    "    print(\"Benvenuto nella calcolatrice BMI!\")\n",
    "    peso = float(input(\"Inserisci il peso in chilogrammi: \"))\n",
    "    altezza = float(input(\"Inserisci l'altezza in metri: \"))\n",
    "    \n",
    "    # Utilizzo della funzione definita precedentemente per calcolare il BMI.\n",
    "    bmi = calcola_bmi(peso, altezza)\n",
    "    # Utilizzo della funzione definita precedentemente per valutare la categoria del BMI.\n",
    "    valutazione = valuta_bmi(bmi)\n",
    "    \n",
    "    # Stampa del risultato.\n",
    "    print(f\"Il BMI è {bmi:.2f}, sei classificato come {valutazione}. \")\n",
    "\n",
    "if __name__ == \"__main__\":\n",
    "    main()"
   ]
  },
  {
   "cell_type": "code",
   "execution_count": 4,
   "id": "090b527a",
   "metadata": {},
   "outputs": [
    {
     "name": "stdout",
     "output_type": "stream",
     "text": [
      "Personaggio fantasy generato: \n",
      "Specie: Elfo\n",
      "Classe: Guerriero\n",
      "Arma: Pugnale\n",
      "Abilità: Forza, Cura\n"
     ]
    }
   ],
   "source": [
    "# Importa il modulo random per la generazione di valori casuali\n",
    "import random\n",
    "\n",
    "# List di specie possibili per il personaggio\n",
    "speci = [\"Drago\", \"Vampiro\", \"Lupo mannaro\", \"Sirena\"]\n",
    "\n",
    "# List di classi possibili per il personaggio\n",
    "classi = [\"Stregone\", \"Druido\", \"Ninja\", \"Paladino\"]\n",
    "\n",
    "# List di armi possibili per il personaggio\n",
    "armi = [\"Ascia\", \"Lancia\", \"Fionda\", \"Arpione\"]\n",
    "\n",
    "# List di abilità possibili per il personaggio\n",
    "abilita = [\"Telepatia\", \"Trasformazione\", \"Teletrasporto\", \"Ipnosi\", \"Regenerazione\", \"Controllo degli elementi\"]\n",
    "\n",
    "# Sceglie casualmente una specie dalla lista di specie\n",
    "specie = random.choice(speci)\n",
    "\n",
    "# Sceglie casualmente una classe dalla lista di classi\n",
    "classe = random.choice(classi)\n",
    "\n",
    "# Sceglie casualmente un'arma dalla lista di armi\n",
    "arma = random.choice(armi)\n",
    "\n",
    "# Sceglie un numero casuale di abilità (tra 1 e 3) dalla lista di abilità \n",
    "abilitas = random.sample(abilita, random.randint(1, 3))\n",
    "\n",
    "# Stampa le informazioni del personaggio generato\n",
    "print(\"Personaggio fantasy generato: \")\n",
    "print(f\"Specie: {specie}\")\n",
    "print(f\"Classe: {classe}\")\n",
    "print(f\"Arma: {arma}\")\n",
    "print(f\"Abilità: {', '.join(abilitas)}\")"
   ]
  }
 ],
 "metadata": {
  "kernelspec": {
   "display_name": "Python 3 (ipykernel)",
   "language": "python",
   "name": "python3"
  },
  "language_info": {
   "codemirror_mode": {
    "name": "ipython",
    "version": 3
   },
   "file_extension": ".py",
   "mimetype": "text/x-python",
   "name": "python",
   "nbconvert_exporter": "python",
   "pygments_lexer": "ipython3",
   "version": "3.11.4"
  }
 },
 "nbformat": 4,
 "nbformat_minor": 5
}
